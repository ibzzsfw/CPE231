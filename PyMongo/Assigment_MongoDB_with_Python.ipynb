{
  "cells": [
    {
      "cell_type": "markdown",
      "metadata": {
        "id": "EEGzOmIt5153"
      },
      "source": [
        "# Install MongoDB\n"
      ]
    },
    {
      "cell_type": "code",
      "execution_count": 2,
      "metadata": {
        "colab": {
          "base_uri": "https://localhost:8080/"
        },
        "id": "d_W8Zhl_nYBA",
        "outputId": "c792f101-fbdc-459b-a400-1160067b59ec"
      },
      "outputs": [
        {
          "name": "stdout",
          "output_type": "stream",
          "text": [
            "--2022-05-08 10:12:44--  https://fastdl.mongodb.org/linux/mongodb-linux-x86_64-debian71-3.0.15.tgz\n",
            "Resolving fastdl.mongodb.org (fastdl.mongodb.org)... 65.8.248.127, 65.8.248.41, 65.8.248.71, ...\n",
            "Connecting to fastdl.mongodb.org (fastdl.mongodb.org)|65.8.248.127|:443... connected.\n",
            "HTTP request sent, awaiting response... 200 OK\n",
            "Length: 70878938 (68M) [application/x-gzip]\n",
            "Saving to: ‘mongodb-linux-x86_64-debian71-3.0.15.tgz’\n",
            "\n",
            "mongodb-linux-x86_6 100%[===================>]  67.59M   112MB/s    in 0.6s    \n",
            "\n",
            "2022-05-08 10:12:45 (112 MB/s) - ‘mongodb-linux-x86_64-debian71-3.0.15.tgz’ saved [70878938/70878938]\n",
            "\n",
            "mongodb-linux-x86_64-debian71-3.0.15/README\n",
            "mongodb-linux-x86_64-debian71-3.0.15/THIRD-PARTY-NOTICES\n",
            "mongodb-linux-x86_64-debian71-3.0.15/GNU-AGPL-3.0\n",
            "mongodb-linux-x86_64-debian71-3.0.15/bin/mongodump\n",
            "mongodb-linux-x86_64-debian71-3.0.15/bin/mongorestore\n",
            "mongodb-linux-x86_64-debian71-3.0.15/bin/mongoexport\n",
            "mongodb-linux-x86_64-debian71-3.0.15/bin/mongoimport\n",
            "mongodb-linux-x86_64-debian71-3.0.15/bin/mongostat\n",
            "mongodb-linux-x86_64-debian71-3.0.15/bin/mongotop\n",
            "mongodb-linux-x86_64-debian71-3.0.15/bin/bsondump\n",
            "mongodb-linux-x86_64-debian71-3.0.15/bin/mongofiles\n",
            "mongodb-linux-x86_64-debian71-3.0.15/bin/mongooplog\n",
            "mongodb-linux-x86_64-debian71-3.0.15/bin/mongoperf\n",
            "mongodb-linux-x86_64-debian71-3.0.15/bin/mongosniff\n",
            "mongodb-linux-x86_64-debian71-3.0.15/bin/mongod\n",
            "mongodb-linux-x86_64-debian71-3.0.15/bin/mongos\n",
            "mongodb-linux-x86_64-debian71-3.0.15/bin/mongo\n",
            "mkdir: cannot create directory ‘/data’: File exists\n",
            "mkdir: cannot create directory ‘/data/db’: File exists\n"
          ]
        }
      ],
      "source": [
        "# MongoDB download and installation\n",
        "# Downloads MongoDB from official repository\n",
        "!wget https: // fastdl.mongodb.org/linux/mongodb-linux-x86_64-debian71-3.0.15.tgz\n",
        "!tar xfv mongodb-linux-x86_64-debian71-3.0.15.tgz     # Unpack compressed file\n",
        "!rm mongodb-linux-x86_64-debian71-3.0.15.tgz          # Removes downloaded file\n",
        "\n",
        "# Default location of database is \"/data/db\" folder\n",
        "!mkdir / data                                          # data folder creation\n",
        "# db folder creation inside data\n",
        "!mkdir / data/db\n"
      ]
    },
    {
      "cell_type": "markdown",
      "metadata": {
        "id": "3D6KgR_c55j4"
      },
      "source": [
        "# Run MongoDB Server in Background\n"
      ]
    },
    {
      "cell_type": "code",
      "execution_count": null,
      "metadata": {
        "colab": {
          "base_uri": "https://localhost:8080/"
        },
        "id": "fYbMpReoBlQj",
        "outputId": "e3bab05d-4dd4-4dd2-b30e-09ac20aa0b51"
      },
      "outputs": [
        {
          "name": "stdout",
          "output_type": "stream",
          "text": [
            "nohup: appending output to 'nohup.out'\n"
          ]
        }
      ],
      "source": [
        "! nohup mongodb-linux-x86_64-debian71-3.0.15/bin/mongod - -nojournal - -dbpath / data/db &\n"
      ]
    },
    {
      "cell_type": "markdown",
      "metadata": {
        "id": "cPK-4rs76BPW"
      },
      "source": [
        "# Install pymongo\n"
      ]
    },
    {
      "cell_type": "code",
      "execution_count": 1,
      "metadata": {
        "colab": {
          "base_uri": "https://localhost:8080/"
        },
        "id": "U2q_YguYp1Zl",
        "outputId": "9c823a81-bca7-48e1-ebad-fc2d7633a9ab"
      },
      "outputs": [
        {
          "name": "stdout",
          "output_type": "stream",
          "text": [
            "Collecting pymongo==3.7.2\n",
            "  Downloading pymongo-3.7.2.tar.gz (628 kB)\n",
            "\u001b[2K     \u001b[90m━━━━━━━━━━━━━━━━━━━━━━━━━━━━━━━━━━━━━━━\u001b[0m \u001b[32m628.6/628.6 KB\u001b[0m \u001b[31m2.0 MB/s\u001b[0m eta \u001b[36m0:00:00\u001b[0m00:01\u001b[0m00:01\u001b[0m\n",
            "\u001b[?25h  Preparing metadata (setup.py) ... \u001b[?25ldone\n",
            "\u001b[?25hBuilding wheels for collected packages: pymongo\n",
            "  Building wheel for pymongo (setup.py) ... \u001b[?25l|"
          ]
        }
      ],
      "source": [
        "! python - m pip install pymongo == 3.7.2\n"
      ]
    },
    {
      "cell_type": "markdown",
      "metadata": {
        "id": "fQZnGU627uRi"
      },
      "source": [
        "# Connect Client to Server\n"
      ]
    },
    {
      "cell_type": "code",
      "execution_count": 5,
      "metadata": {
        "id": "MrN-EnKap4Th"
      },
      "outputs": [],
      "source": [
        "import datetime\n",
        "import pymongo\n",
        "from pymongo import MongoClient\n",
        "uri = 'localhost:27017'\n",
        "\n",
        "client = pymongo.MongoClient(uri)\n",
        "\n",
        "# Select a database\n",
        "# mydb = client[\"mydatabase\"] # or using client.mydatabase\n"
      ]
    },
    {
      "cell_type": "markdown",
      "metadata": {
        "id": "BDKlsJKp9tQd"
      },
      "source": [
        "# Homework\n"
      ]
    },
    {
      "cell_type": "markdown",
      "metadata": {
        "id": "Y50O2YQB8aaT"
      },
      "source": [
        "#### 3. Use client.list_database_names() What is the statement used for? Show your result.\n"
      ]
    },
    {
      "cell_type": "code",
      "execution_count": null,
      "metadata": {
        "colab": {
          "base_uri": "https://localhost:8080/"
        },
        "id": "p0AOYY4Qp7gc",
        "outputId": "eaec346b-75b0-4bc9-e31e-36794c672272"
      },
      "outputs": [
        {
          "name": "stdout",
          "output_type": "stream",
          "text": [
            "['local']\n",
            "['local']\n"
          ]
        },
        {
          "name": "stderr",
          "output_type": "stream",
          "text": [
            "/usr/local/lib/python3.7/dist-packages/ipykernel_launcher.py:3: DeprecationWarning: database_names is deprecated. Use list_database_names instead.\n",
            "  This is separate from the ipykernel package so we can avoid doing imports until\n"
          ]
        }
      ],
      "source": [
        "print(client.list_database_names())\n",
        "# OR\n",
        "print(client.database_names())\n"
      ]
    },
    {
      "cell_type": "markdown",
      "metadata": {
        "id": "KDp4O_gt8hx9"
      },
      "source": [
        "#### 4. Select \"labdb\" to be used. What is the command?\n"
      ]
    },
    {
      "cell_type": "code",
      "execution_count": null,
      "metadata": {
        "id": "OMNfERSGr1p9"
      },
      "outputs": [],
      "source": [
        "db = client.labdb\n"
      ]
    },
    {
      "cell_type": "markdown",
      "metadata": {
        "id": "eQZxWyeN83HI"
      },
      "source": [
        "#### 5. Select \"labcollection\" from your selected \"labdb\". Show your result.\n"
      ]
    },
    {
      "cell_type": "markdown",
      "metadata": {
        "id": "A3eMGjxiaf3Z"
      },
      "source": []
    },
    {
      "cell_type": "code",
      "execution_count": null,
      "metadata": {
        "id": "ab1x1RbL8uJz"
      },
      "outputs": [],
      "source": [
        "collection =\n"
      ]
    },
    {
      "cell_type": "markdown",
      "metadata": {
        "id": "seqnsdJN9aQb"
      },
      "source": [
        "#### 6. Then, use list_database_names() again. What do you see? Show your result. What will happen after we type the db = client.labdb (to use labdb) statement in Q.4 to select a database with no existence of that database?\n"
      ]
    },
    {
      "cell_type": "code",
      "execution_count": null,
      "metadata": {
        "id": "JsTy9bz093uO"
      },
      "outputs": [],
      "source": [
        "client.list_database_names()\n"
      ]
    },
    {
      "cell_type": "markdown",
      "metadata": {
        "id": "9TqxXuWL-BI9"
      },
      "source": [
        "#### 7. Show your collections. What is the statment?\n"
      ]
    },
    {
      "cell_type": "code",
      "execution_count": null,
      "metadata": {
        "id": "U7nbw8lC97R3"
      },
      "outputs": [],
      "source": []
    },
    {
      "cell_type": "markdown",
      "metadata": {
        "id": "UP05fB4W-N2i"
      },
      "source": [
        "#### 8. Type collection.insert_one({name:’testCreateCollection’}) to insert data {name:’testCreateCollection’} to the “labcollection”. Show your capture.\n"
      ]
    },
    {
      "cell_type": "code",
      "execution_count": null,
      "metadata": {
        "id": "4kL90Yhx97eG"
      },
      "outputs": [],
      "source": []
    },
    {
      "cell_type": "markdown",
      "metadata": {
        "id": "y3EnC5Oe_hym"
      },
      "source": [
        "#### 9. Type db.labcollection2.insert_one({'name' : 'testCreateCollection2'})\n"
      ]
    },
    {
      "cell_type": "code",
      "execution_count": null,
      "metadata": {
        "id": "taMYf2Ce_hGm"
      },
      "outputs": [],
      "source": []
    },
    {
      "cell_type": "markdown",
      "metadata": {
        "id": "MtnoMDmVAVC0"
      },
      "source": [
        "##### 9.1 Then show all the colllections in the database. Do you see a new collection “labcollections2” just created?\n"
      ]
    },
    {
      "cell_type": "code",
      "execution_count": null,
      "metadata": {
        "id": "CbY9DSIDASOs"
      },
      "outputs": [],
      "source": []
    },
    {
      "cell_type": "markdown",
      "metadata": {
        "id": "uq4vN4C4Ahyc"
      },
      "source": [
        "#### 10. What will happen if you use the insert command to add data to a collection which has not been created before inserting the data? Briefly explain.\n",
        "\n",
        "**ANS:**\n"
      ]
    },
    {
      "cell_type": "markdown",
      "metadata": {
        "id": "Hsv_sar-AzsT"
      },
      "source": [
        "#### 11. Type drop both the collections (labcollection and labcollection2) by using **db.COLLECTION_NAME.drop()** . Show what collections left.\n"
      ]
    },
    {
      "cell_type": "code",
      "execution_count": null,
      "metadata": {
        "id": "18o4efQCAg57"
      },
      "outputs": [],
      "source": []
    },
    {
      "cell_type": "markdown",
      "metadata": {
        "id": "x2oMh9UcBSF5"
      },
      "source": [
        "#### 12. Create a collection name “stock”. Show your command.\n"
      ]
    },
    {
      "cell_type": "code",
      "execution_count": null,
      "metadata": {
        "id": "5WSkLZ9LBXtQ"
      },
      "outputs": [],
      "source": []
    },
    {
      "cell_type": "markdown",
      "metadata": {
        "id": "vzQnYUFvBbMq"
      },
      "source": [
        "#### 13. Insert a document into the “stock” collection by using the following\n"
      ]
    },
    {
      "cell_type": "code",
      "execution_count": null,
      "metadata": {
        "id": "h7fEWwglBbsv"
      },
      "outputs": [],
      "source": [
        "# collection.insert_one({\\\n",
        "#                              'item': \"tshirt\",\\\n",
        "#                              'details': {\\\n",
        "#                                        'model': \"S321\",\\\n",
        "#                                        'manufacturer': \"KMUTT Company\"\n",
        "#                                        },\\\n",
        "#                              'stock': [ { 'size': \"S\", 'qty': 20 },\\\n",
        "#                                        { 'size': \"M\", 'qty': 15 } ],\\\n",
        "#                             'category': \"clothing\",\\\n",
        "#                             'price':100\\\n",
        "#                             })\n"
      ]
    },
    {
      "cell_type": "markdown",
      "metadata": {
        "id": "ksqGMlmFCPQY"
      },
      "source": [
        "##### 13.1 Run the below statments. What are result.acknowledged and result.inserted_id?\n",
        "\n",
        "Hint. WriteResult in pymongo is the object which is the return value when we call any funciton (i.e. drop, insert, update)\n",
        "https://api.mongodb.com/python/current/api/pymongo/results.html\n"
      ]
    },
    {
      "cell_type": "code",
      "execution_count": null,
      "metadata": {
        "id": "SBhiREwyDRbB"
      },
      "outputs": [],
      "source": [
        "print(result.acknowledged)\n",
        "print(result.inserted_id)\n"
      ]
    },
    {
      "cell_type": "markdown",
      "metadata": {
        "id": "gcL6g54mDdP2"
      },
      "source": [
        "#### 14. Then insert the following items into the “stock” collection by using one insert command or multiple insert commands. Use the previous document as example\n",
        "\n",
        "![image.png](data:image/png;base64,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)\n"
      ]
    },
    {
      "cell_type": "code",
      "execution_count": null,
      "metadata": {
        "id": "CbQXfb-sDdp6"
      },
      "outputs": [],
      "source": []
    },
    {
      "cell_type": "markdown",
      "metadata": {
        "id": "ig-Nfkl1QEpY"
      },
      "source": [
        "#### 15. Type \"print (list(collection.find()))\". What is find() used for?\n"
      ]
    },
    {
      "cell_type": "code",
      "execution_count": null,
      "metadata": {
        "id": "ghpJWmunQIfH"
      },
      "outputs": [],
      "source": []
    },
    {
      "cell_type": "code",
      "execution_count": null,
      "metadata": {
        "id": "HnuXPQQmIaBA"
      },
      "outputs": [],
      "source": [
        "# For better presentation, change the list to dataframe\n",
        "import pandas as pd\n",
        "pd.options.display.max_columns = 10\n",
        "df = pd.DataFrame(list(collection.find()))\n",
        "print(df)\n"
      ]
    },
    {
      "cell_type": "markdown",
      "metadata": {
        "id": "O9gXo8UWRakB"
      },
      "source": [
        "#### 16. Use collection.find( { 'category': 'clothing' }). Show your result. What items do you get from executing the command?\n"
      ]
    },
    {
      "cell_type": "code",
      "execution_count": null,
      "metadata": {
        "id": "00tEGYq0RhE2"
      },
      "outputs": [],
      "source": []
    },
    {
      "cell_type": "markdown",
      "metadata": {
        "id": "3cm2X_Z8Rr8f"
      },
      "source": [
        "#### 17. Use collection.find( { 'category': 'clothing', 'price': { '$lt': 100 } }). What do you get?\n"
      ]
    },
    {
      "cell_type": "code",
      "execution_count": null,
      "metadata": {
        "id": "JLW0e_r3RzNW"
      },
      "outputs": [],
      "source": []
    },
    {
      "cell_type": "markdown",
      "metadata": {
        "id": "9L2G-PMsSDMO"
      },
      "source": [
        "#### 18. Show your command if you would like to search for any item which its price is greater than 50.\n"
      ]
    },
    {
      "cell_type": "code",
      "execution_count": null,
      "metadata": {
        "id": "NI810MVMSLHh"
      },
      "outputs": [],
      "source": []
    },
    {
      "cell_type": "markdown",
      "metadata": {
        "id": "8paqU2vSSWYb"
      },
      "source": [
        "#### 19. Find all items that have size “S”\n"
      ]
    },
    {
      "cell_type": "code",
      "execution_count": null,
      "metadata": {
        "id": "C1wAytQESRWJ"
      },
      "outputs": [],
      "source": []
    },
    {
      "cell_type": "markdown",
      "metadata": {
        "id": "DacnEliKSm70"
      },
      "source": [
        "#### 20. Show your command and result if you would like to find items which have size M and their quantity is greater than 10. Hint: Using $elemMatch for matching documents that contain an array field.\n"
      ]
    },
    {
      "cell_type": "code",
      "execution_count": null,
      "metadata": {
        "id": "HMVosFbHStvB"
      },
      "outputs": [],
      "source": []
    },
    {
      "cell_type": "markdown",
      "metadata": {
        "id": "kWxBdR6NTa5_"
      },
      "source": [
        "#### 21. Show your command if you would like to find the same items in Step 20 but only fields “item”, “category”, and “price” sorted by “price” in ascending order are shown in the result set. Note that by default, the \\_id field is included in the results. To suppress the \\_id field from the result set, specify \\_id: 0 in the projection document.\n"
      ]
    },
    {
      "cell_type": "code",
      "execution_count": null,
      "metadata": {
        "id": "6tTCC1qrTlVL"
      },
      "outputs": [],
      "source": []
    },
    {
      "cell_type": "markdown",
      "metadata": {
        "id": "MxJg8zU8UmvM"
      },
      "source": [
        "#### 22. For the document with item equal to \"DVD\", use the $set operator to update the category field and the details field to the specified values shown below. Show your capture and all the documents.\n"
      ]
    },
    {
      "cell_type": "code",
      "execution_count": null,
      "metadata": {
        "id": "V-BnDDpAVNLR"
      },
      "outputs": [],
      "source": []
    },
    {
      "cell_type": "markdown",
      "metadata": {
        "id": "9Hugq4pQVMjX"
      },
      "source": [
        "#### 23. Use the following command to change the manufacture of the Egg item. Show the result of your change.\n"
      ]
    },
    {
      "cell_type": "code",
      "execution_count": null,
      "metadata": {
        "id": "eXJe0pS3Vwco"
      },
      "outputs": [],
      "source": []
    },
    {
      "cell_type": "markdown",
      "metadata": {
        "id": "cFYnFAkzWDXx"
      },
      "source": [
        "#### 24. Remove items with category “clothing” by using remove(). Show your result and all the documents left.\n"
      ]
    },
    {
      "cell_type": "code",
      "execution_count": null,
      "metadata": {
        "id": "SQXQyfztWCn9"
      },
      "outputs": [],
      "source": []
    },
    {
      "cell_type": "markdown",
      "metadata": {
        "id": "u0WsQb5rWSJL"
      },
      "source": [
        "#### 25. Remove all the documents from the collection. Show the command.\n"
      ]
    },
    {
      "cell_type": "code",
      "execution_count": null,
      "metadata": {
        "id": "iqtw7MsCWVVb"
      },
      "outputs": [],
      "source": []
    },
    {
      "cell_type": "markdown",
      "metadata": {
        "id": "4swwMRwoWdoz"
      },
      "source": [
        "#### 26. Remove the collection from the database. Show the command.\n"
      ]
    },
    {
      "cell_type": "code",
      "execution_count": null,
      "metadata": {
        "id": "SvNIlDuuWhOS"
      },
      "outputs": [],
      "source": []
    },
    {
      "cell_type": "markdown",
      "metadata": {
        "id": "D0J740tXW741"
      },
      "source": [
        "#### 27. Remove the database. Show the command.\n"
      ]
    },
    {
      "cell_type": "code",
      "execution_count": null,
      "metadata": {
        "id": "l-8OTktmW4YO"
      },
      "outputs": [],
      "source": []
    },
    {
      "cell_type": "markdown",
      "metadata": {
        "id": "xFgoL6XxcMPz"
      },
      "source": [
        "# Homework MongoDB 2\n"
      ]
    },
    {
      "cell_type": "code",
      "execution_count": 2,
      "metadata": {
        "id": "X3UiW0PXcPez"
      },
      "outputs": [
        {
          "data": {
            "text/plain": [
              "Database(MongoClient(host=['localhost:27017'], document_class=dict, tz_aware=False, connect=True), 'labdb2')"
            ]
          },
          "execution_count": 2,
          "metadata": {},
          "output_type": "execute_result"
        }
      ],
      "source": [
        "from pprint import pprint\n",
        "db = client.labdb2\n",
        "db\n"
      ]
    },
    {
      "cell_type": "code",
      "execution_count": 283,
      "metadata": {
        "id": "ffN1EdW2ugGy"
      },
      "outputs": [],
      "source": [
        "################\n",
        "# Create data according to sample data\n",
        "################\n",
        "subjects_teacher = [\n",
        "    {\n",
        "        '_id': 'G001',\n",
        "        'group_name': 'International Section',\n",
        "        'subjects': [\n",
        "            {\n",
        "                'subject_id': 'CPE332',\n",
        "                'subject_name': 'Database Systems',\n",
        "                'teachers': [\n",
        "                    {\n",
        "                        'teacher_id': 'T001',\n",
        "                        'teacher_firstname': 'Khajonpong',\n",
        "                        'teacher_lastname': 'Akkarajitsakul',\n",
        "                    },\n",
        "                ],\n",
        "            },\n",
        "            {\n",
        "                'subject_id': 'CPE333',\n",
        "                'subject_name': 'Software Engineering',\n",
        "                'teachers': [\n",
        "                    {\n",
        "                        'teacher_id': 'T002',\n",
        "                        'teacher_firstname': 'Phond',\n",
        "                        'teacher_lastname': 'Phunchongharn',\n",
        "                    }\n",
        "                ],\n",
        "            }\n",
        "        ],\n",
        "        'students': [\n",
        "            {\n",
        "                'student_id': 'S001',\n",
        "                'student_firstname': 'Aran',\n",
        "                'student_lastname': 'Bundit',\n",
        "                'marks': [\n",
        "                    {\n",
        "                        'mark_id': '001',\n",
        "                        'subject_id': 'CPE332',\n",
        "                        'date': datetime.datetime(2016, 11, 16),\n",
        "                        'mark': 70\n",
        "                    },\n",
        "                    {\n",
        "                        'mark_id': '004',\n",
        "                        'subject_id': 'CPE333',\n",
        "                        'date': datetime.datetime(2016, 11, 16),\n",
        "                        'mark': 50\n",
        "                    }\n",
        "                ]\n",
        "            }\n",
        "        ]\n",
        "    },\n",
        "    {\n",
        "        '_id': 'G002',\n",
        "        'group_name': 'Thai Section',\n",
        "        'subjects': [\n",
        "            {\n",
        "                'subject_id': 'CPE332',\n",
        "                'subject_name': 'Database Systems',\n",
        "                'teachers': [\n",
        "                    {\n",
        "                        'teacher_id': 'T001',\n",
        "                        'teacher_firstname': 'Khajonpong',\n",
        "                        'teacher_lastname': 'Akkarajitsakul',\n",
        "                    },\n",
        "                ]\n",
        "            },\n",
        "            {\n",
        "                'subject_id': 'CPE333',\n",
        "                'subject_name': 'Software Engineering',\n",
        "                'teachers': [\n",
        "                    {\n",
        "                        'teacher_id': 'T001',\n",
        "                        'teacher_firstname': 'Khajonpong',\n",
        "                        'teacher_lastname': 'Akkarajitsakul',\n",
        "                    },\n",
        "                    {\n",
        "                        'teacher_id': 'T002',\n",
        "                        'teacher_firstname': 'Phond',\n",
        "                        'teacher_lastname': 'Phunchongharn',\n",
        "                    }\n",
        "                ]\n",
        "            }\n",
        "        ],\n",
        "        'students': [\n",
        "            {\n",
        "                'student_id': 'S002',\n",
        "                'student_firstname': 'Arin',\n",
        "                'student_lastname': 'Akkara',\n",
        "                'marks': [\n",
        "                    {\n",
        "                        'mark_id': '002',\n",
        "                        'subject_id': 'CPE332',\n",
        "                        'date': datetime.datetime(2016, 11, 16),\n",
        "                        'mark': 72\n",
        "                    },\n",
        "                    {\n",
        "                        'mark_id': '005',\n",
        "                        'subject_id': 'CPE333',\n",
        "                        'date': datetime.datetime(2016, 11, 16),\n",
        "                        'mark': 55\n",
        "                    }\n",
        "                ]\n",
        "            },\n",
        "            {\n",
        "                'student_id': 'S003',\n",
        "                'student_firstname': 'Aree',\n",
        "                'student_lastname': 'Rukdee',\n",
        "                'marks': [\n",
        "                    {\n",
        "                        'mark_id': '003',\n",
        "                        'subject_id': 'CPE332',\n",
        "                        'date': datetime.datetime(2016, 11, 16),\n",
        "                        'mark': 95\n",
        "                    },\n",
        "                    {\n",
        "                        'mark_id': '006',\n",
        "                        'subject_id': 'CPE333',\n",
        "                        'date': datetime.datetime(2016, 11, 16),\n",
        "                        'mark': 20\n",
        "                    }\n",
        "                ]\n",
        "            }\n",
        "        ]\n",
        "    }\n",
        "]\n"
      ]
    },
    {
      "cell_type": "markdown",
      "metadata": {
        "id": "S-nIFZ2CCp3o"
      },
      "source": [
        "#### Insert Data into Mongodb\n"
      ]
    },
    {
      "cell_type": "code",
      "execution_count": 284,
      "metadata": {
        "id": "1LwW2sWABx32"
      },
      "outputs": [
        {
          "data": {
            "text/plain": [
              "[{'_id': 'G001',\n",
              "  'group_name': 'International Section',\n",
              "  'subjects': [{'subject_id': 'CPE332',\n",
              "    'subject_name': 'Database Systems',\n",
              "    'teachers': [{'teacher_id': 'T001',\n",
              "      'teacher_firstname': 'Khajonpong',\n",
              "      'teacher_lastname': 'Akkarajitsakul'}]},\n",
              "   {'subject_id': 'CPE333',\n",
              "    'subject_name': 'Software Engineering',\n",
              "    'teachers': [{'teacher_id': 'T002',\n",
              "      'teacher_firstname': 'Phond',\n",
              "      'teacher_lastname': 'Phunchongharn'}]}],\n",
              "  'students': [{'student_id': 'S001',\n",
              "    'student_firstname': 'Aran',\n",
              "    'student_lastname': 'Bundit',\n",
              "    'marks': [{'mark_id': '001',\n",
              "      'subject_id': 'CPE332',\n",
              "      'date': datetime.datetime(2016, 11, 16, 0, 0),\n",
              "      'mark': 70},\n",
              "     {'mark_id': '004',\n",
              "      'subject_id': 'CPE333',\n",
              "      'date': datetime.datetime(2016, 11, 16, 0, 0),\n",
              "      'mark': 50}]}]},\n",
              " {'_id': 'G002',\n",
              "  'group_name': 'Thai Section',\n",
              "  'subjects': [{'subject_id': 'CPE332',\n",
              "    'subject_name': 'Database Systems',\n",
              "    'teachers': [{'teacher_id': 'T001',\n",
              "      'teacher_firstname': 'Khajonpong',\n",
              "      'teacher_lastname': 'Akkarajitsakul'}]},\n",
              "   {'subject_id': 'CPE333',\n",
              "    'subject_name': 'Software Engineering',\n",
              "    'teachers': [{'teacher_id': 'T001',\n",
              "      'teacher_firstname': 'Khajonpong',\n",
              "      'teacher_lastname': 'Akkarajitsakul'},\n",
              "     {'teacher_id': 'T002',\n",
              "      'teacher_firstname': 'Phond',\n",
              "      'teacher_lastname': 'Phunchongharn'}]}],\n",
              "  'students': [{'student_id': 'S002',\n",
              "    'student_firstname': 'Arin',\n",
              "    'student_lastname': 'Akkara',\n",
              "    'marks': [{'mark_id': '002',\n",
              "      'subject_id': 'CPE332',\n",
              "      'date': datetime.datetime(2016, 11, 16, 0, 0),\n",
              "      'mark': 72},\n",
              "     {'mark_id': '005',\n",
              "      'subject_id': 'CPE333',\n",
              "      'date': datetime.datetime(2016, 11, 16, 0, 0),\n",
              "      'mark': 55}]},\n",
              "   {'student_id': 'S003',\n",
              "    'student_firstname': 'Aree',\n",
              "    'student_lastname': 'Rukdee',\n",
              "    'marks': [{'mark_id': '003',\n",
              "      'subject_id': 'CPE332',\n",
              "      'date': datetime.datetime(2016, 11, 16, 0, 0),\n",
              "      'mark': 95},\n",
              "     {'mark_id': '006',\n",
              "      'subject_id': 'CPE333',\n",
              "      'date': datetime.datetime(2016, 11, 16, 0, 0),\n",
              "      'mark': 20}]}]}]"
            ]
          },
          "execution_count": 284,
          "metadata": {},
          "output_type": "execute_result"
        }
      ],
      "source": [
        "db.class_info.drop()\n",
        "insert_result = db.class_info.insert_many(subjects_teacher)\n",
        "list(db.class_info.find())\n"
      ]
    },
    {
      "cell_type": "markdown",
      "metadata": {
        "id": "ho8Z2_bHCvxp"
      },
      "source": [
        "#### What is average score of each group\n"
      ]
    },
    {
      "cell_type": "code",
      "execution_count": 272,
      "metadata": {
        "id": "z1Pi5En2Cs47"
      },
      "outputs": [
        {
          "data": {
            "text/plain": [
              "[{'_id': 'G001', 'group_name': 'International Section', 'average': 60.0},\n",
              " {'_id': 'G002', 'group_name': 'Thai Section', 'average': 60.5}]"
            ]
          },
          "execution_count": 272,
          "metadata": {},
          "output_type": "execute_result"
        }
      ],
      "source": [
        "list(db.class_info.aggregate([\n",
        "    {\n",
        "        '$unwind': '$students'\n",
        "    },\n",
        "    {\n",
        "        '$unwind': '$students.marks'\n",
        "    },\n",
        "    {\n",
        "        '$group': {\n",
        "            '_id': '$_id',\n",
        "            'group_name': {\n",
        "                '$first': '$group_name'\n",
        "            },\n",
        "            'average': {\n",
        "                '$avg': '$students.marks.mark'\n",
        "            }\n",
        "        }\n",
        "    }\n",
        "]))"
      ]
    },
    {
      "cell_type": "markdown",
      "metadata": {
        "id": "Iw4knce4FHKp"
      },
      "source": [
        "#### What is average score of each subject\n"
      ]
    },
    {
      "cell_type": "code",
      "execution_count": 278,
      "metadata": {
        "id": "s87QLeBEFL1t"
      },
      "outputs": [
        {
          "data": {
            "text/plain": [
              "[{'_id': 'CPE332', 'average': 79.0},\n",
              " {'_id': 'CPE333', 'average': 41.666666666666664}]"
            ]
          },
          "execution_count": 278,
          "metadata": {},
          "output_type": "execute_result"
        }
      ],
      "source": [
        "list(db.class_info.aggregate([\n",
        "    {\n",
        "        '$unwind': '$students'\n",
        "    },\n",
        "    {\n",
        "        '$unwind': '$students.marks'\n",
        "    },\n",
        "    {\n",
        "        '$group': {\n",
        "            '_id': '$students.marks.subject_id',\n",
        "            'average': {\n",
        "                '$avg': '$students.marks.mark'\n",
        "            }\n",
        "        }\n",
        "    }\n",
        "]))\n"
      ]
    },
    {
      "cell_type": "markdown",
      "metadata": {
        "id": "VKtI9AYtFM-P"
      },
      "source": [
        "#### Who is the student getting the highest marks among all groups and subjects? and Who is his or her teacher ?\n"
      ]
    },
    {
      "cell_type": "code",
      "execution_count": 323,
      "metadata": {
        "id": "pdAMks-hB--8"
      },
      "outputs": [
        {
          "data": {
            "text/plain": [
              "[{'_id': 'G002',\n",
              "  'student_name': 'Aree Rukdee',\n",
              "  'mark': 95,\n",
              "  'teachers': [{'teacher_id': 'T001',\n",
              "    'teacher_firstname': 'Khajonpong',\n",
              "    'teacher_lastname': 'Akkarajitsakul'}]}]"
            ]
          },
          "execution_count": 323,
          "metadata": {},
          "output_type": "execute_result"
        }
      ],
      "source": [
        "list(db.class_info.aggregate([\n",
        "    {\n",
        "        '$unwind': '$students'\n",
        "    },\n",
        "    {\n",
        "        '$unwind': '$students.marks'\n",
        "    },\n",
        "    {\n",
        "        '$unwind': '$subjects'\n",
        "    },\n",
        "    {\n",
        "        '$sort': {\n",
        "            'students.marks.mark': -1\n",
        "        }\n",
        "    },\n",
        "    {\n",
        "        '$limit': 1\n",
        "    },\n",
        "    {\n",
        "        '$project': {\n",
        "            '_id': 1,\n",
        "            'student_name': {\n",
        "                '$concat': ['$students.student_firstname', ' ', '$students.student_lastname']\n",
        "            },\n",
        "            'mark': '$students.marks.mark',\n",
        "            'teachers': '$subjects.teachers'\n",
        "        }\n",
        "    }\n",
        "]))\n"
      ]
    },
    {
      "cell_type": "markdown",
      "metadata": {
        "id": "mXSbcivZ8yX8"
      },
      "source": [
        "# Finally, Shutdown mongo db server\n"
      ]
    },
    {
      "cell_type": "code",
      "execution_count": null,
      "metadata": {
        "id": "9nbj7q7wtn42"
      },
      "outputs": [],
      "source": [
        "# Shutdown mongoDB server\n",
        "!mongodb-linux-x86_64-debian71-3.0.15/bin/mongo admin - -eval 'db.shutdownServer()'\n"
      ]
    },
    {
      "cell_type": "code",
      "execution_count": null,
      "metadata": {
        "id": "1eS1tNF4mopr"
      },
      "outputs": [],
      "source": []
    }
  ],
  "metadata": {
    "colab": {
      "collapsed_sections": [],
      "name": "Assigment - MongoDB with Python.ipynb",
      "provenance": []
    },
    "interpreter": {
      "hash": "874ef6376a958defdbbeceba2f644eec1cdd2d2609ad07334a34a6ec6d84ce1e"
    },
    "kernelspec": {
      "display_name": "Python 3.8.8 ('base')",
      "language": "python",
      "name": "python3"
    },
    "language_info": {
      "codemirror_mode": {
        "name": "ipython",
        "version": 3
      },
      "file_extension": ".py",
      "mimetype": "text/x-python",
      "name": "python",
      "nbconvert_exporter": "python",
      "pygments_lexer": "ipython3",
      "version": "3.8.8"
    }
  },
  "nbformat": 4,
  "nbformat_minor": 0
}
